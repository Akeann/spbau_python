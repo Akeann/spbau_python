{
 "cells": [
  {
   "cell_type": "code",
   "execution_count": 48,
   "id": "716e2e3b",
   "metadata": {},
   "outputs": [],
   "source": [
    "import random"
   ]
  },
  {
   "cell_type": "code",
   "execution_count": 49,
   "id": "f15b4d84",
   "metadata": {},
   "outputs": [],
   "source": [
    "def gcd(a, b):\n",
    "    \"\"\"\n",
    "    Алгоритм Евклида.\n",
    "    \n",
    "    Параметры:\n",
    "    ----------\n",
    "    a: int\n",
    "        первое число\n",
    "    b: int\n",
    "        второе число\n",
    "    \"\"\"\n",
    "    if b == 0:\n",
    "        return a\n",
    "    return gcd(b, a % b)"
   ]
  },
  {
   "cell_type": "code",
   "execution_count": 50,
   "id": "b4e08777",
   "metadata": {},
   "outputs": [],
   "source": [
    "def egcd(a, b):\n",
    "    \"\"\"\n",
    "    Расширенный алгоритм Евклида.\n",
    "    \n",
    "    Параметры:\n",
    "    ----------\n",
    "    a: int\n",
    "        первое число\n",
    "    b: int\n",
    "        второе число\n",
    "    \"\"\"\n",
    "    if b == 0:\n",
    "        return (1, 0, a)\n",
    "    (x, y, d) = egcd(b, a % b)\n",
    "    return (y, x - (a // b) * y, d)"
   ]
  },
  {
   "cell_type": "code",
   "execution_count": 51,
   "id": "79989d33",
   "metadata": {},
   "outputs": [],
   "source": [
    "def primality(N):\n",
    "    \"\"\"\n",
    "    Тест Ферма (проверка числа на простоту).\n",
    "    \n",
    "    Параметры:\n",
    "    ----------\n",
    "    N: int\n",
    "    \"\"\"\n",
    "    flag = 0\n",
    "    k = 3\n",
    "    if N == 1 or N == 4:\n",
    "        return False\n",
    "    elif N == 2 or N == 3:\n",
    "        return True\n",
    "    for _ in range(k):\n",
    "        a = random.randint(1, N-1)\n",
    "        if (a**(N-1) % N != 1):\n",
    "            flag = 1\n",
    "            break\n",
    "    if flag == 0:\n",
    "        #print('This is a prime number')\n",
    "        return True\n",
    "    else:\n",
    "        #print('This is a composite number')\n",
    "        return False"
   ]
  },
  {
   "cell_type": "markdown",
   "id": "71fef6a5",
   "metadata": {},
   "source": [
    "Получим список всех простых чисел в диапазоне от 1 до 1000:"
   ]
  },
  {
   "cell_type": "code",
   "execution_count": 87,
   "id": "45bef46b",
   "metadata": {},
   "outputs": [
    {
     "name": "stdout",
     "output_type": "stream",
     "text": [
      "170\n"
     ]
    }
   ],
   "source": [
    "ls_prime = []\n",
    "k = 0\n",
    "for i in range(1, 1001):\n",
    "    if(primality(i)):\n",
    "        k += 1\n",
    "        ls_prime.append(i)\n",
    "print(k)"
   ]
  },
  {
   "cell_type": "code",
   "execution_count": 88,
   "id": "e04eacb4",
   "metadata": {},
   "outputs": [
    {
     "name": "stdout",
     "output_type": "stream",
     "text": [
      "[2, 3, 5, 7, 11, 13, 17, 19, 23, 29, 31, 37, 41, 43, 47, 53, 59, 61, 67, 71, 73, 79, 83, 89, 97, 101, 103, 107, 109, 113, 127, 131, 137, 139, 149, 151, 157, 163, 167, 173, 179, 181, 191, 193, 197, 199, 211, 223, 227, 229, 233, 239, 241, 251, 257, 263, 269, 271, 277, 281, 283, 293, 307, 311, 313, 317, 331, 337, 347, 349, 353, 359, 367, 373, 379, 383, 389, 397, 401, 409, 419, 421, 431, 433, 439, 443, 449, 457, 461, 463, 467, 479, 487, 491, 499, 503, 509, 521, 523, 541, 547, 557, 561, 563, 569, 571, 577, 587, 593, 599, 601, 607, 613, 617, 619, 631, 641, 643, 647, 653, 659, 661, 673, 677, 683, 691, 701, 703, 709, 719, 727, 733, 739, 743, 751, 757, 761, 769, 773, 787, 797, 809, 811, 821, 823, 827, 829, 839, 853, 857, 859, 863, 877, 881, 883, 887, 907, 911, 919, 929, 937, 941, 947, 953, 967, 971, 977, 983, 991, 997]\n"
     ]
    }
   ],
   "source": [
    "print(ls_prime)"
   ]
  },
  {
   "cell_type": "code",
   "execution_count": 89,
   "id": "3cf1e8c3",
   "metadata": {},
   "outputs": [
    {
     "name": "stdout",
     "output_type": "stream",
     "text": [
      "168\n"
     ]
    }
   ],
   "source": [
    "ls_prime2 = []\n",
    "k = 0\n",
    "for i in range(1, 1001):\n",
    "    if(primality(i)):\n",
    "        k += 1\n",
    "        ls_prime2.append(i)\n",
    "print(k)"
   ]
  },
  {
   "cell_type": "code",
   "execution_count": 90,
   "id": "6043f6db",
   "metadata": {},
   "outputs": [
    {
     "name": "stdout",
     "output_type": "stream",
     "text": [
      "[2, 3, 5, 7, 11, 13, 17, 19, 23, 29, 31, 37, 41, 43, 47, 53, 59, 61, 67, 71, 73, 79, 83, 89, 97, 101, 103, 107, 109, 113, 127, 131, 137, 139, 149, 151, 157, 163, 167, 173, 179, 181, 191, 193, 197, 199, 211, 223, 227, 229, 233, 239, 241, 251, 257, 263, 269, 271, 277, 281, 283, 293, 307, 311, 313, 317, 331, 337, 347, 349, 353, 359, 367, 373, 379, 383, 389, 397, 401, 409, 419, 421, 431, 433, 439, 443, 449, 457, 461, 463, 467, 479, 487, 491, 499, 503, 509, 521, 523, 541, 547, 557, 563, 569, 571, 577, 587, 593, 599, 601, 607, 613, 617, 619, 631, 641, 643, 647, 653, 659, 661, 673, 677, 683, 691, 701, 709, 719, 727, 733, 739, 743, 751, 757, 761, 769, 773, 787, 797, 809, 811, 821, 823, 827, 829, 839, 853, 857, 859, 863, 877, 881, 883, 887, 907, 911, 919, 929, 937, 941, 947, 953, 967, 971, 977, 983, 991, 997]\n"
     ]
    }
   ],
   "source": [
    "print(ls_prime2)"
   ]
  },
  {
   "cell_type": "code",
   "execution_count": 92,
   "id": "1feee3b9",
   "metadata": {},
   "outputs": [
    {
     "name": "stdout",
     "output_type": "stream",
     "text": [
      "561\n",
      "703\n"
     ]
    }
   ],
   "source": [
    "for i in ls_prime:\n",
    "    if not(i in ls_prime2):\n",
    "        print(i)"
   ]
  },
  {
   "cell_type": "code",
   "execution_count": 109,
   "id": "80e0fdc0",
   "metadata": {},
   "outputs": [
    {
     "data": {
      "text/plain": [
       "True"
      ]
     },
     "execution_count": 109,
     "metadata": {},
     "output_type": "execute_result"
    }
   ],
   "source": [
    "primality(703)"
   ]
  },
  {
   "cell_type": "markdown",
   "id": "98ccd86d",
   "metadata": {},
   "source": [
    "И если число 561 - число Кармайкла(при любом случайном числе проходит проверку Ферма), то при одном из вызовов функции 703 также ошибочно функция выдала за простое. Это происходит, так как условие в Малой теореме Ферма не является необходимым(хотя является достаточным) для проверки числа на простоту. "
   ]
  },
  {
   "cell_type": "markdown",
   "id": "9513ae04",
   "metadata": {},
   "source": [
    " "
   ]
  },
  {
   "cell_type": "markdown",
   "id": "68fed692",
   "metadata": {},
   "source": [
    "Результат работы функции egcd на примере чисел 346 и 42:"
   ]
  },
  {
   "cell_type": "code",
   "execution_count": 54,
   "id": "8cdbcb28",
   "metadata": {},
   "outputs": [],
   "source": [
    "a, b = 346, 42\n",
    "x, y, d = egcd(a, b)"
   ]
  },
  {
   "cell_type": "code",
   "execution_count": 55,
   "id": "02fda525",
   "metadata": {},
   "outputs": [
    {
     "name": "stdout",
     "output_type": "stream",
     "text": [
      "2\n"
     ]
    }
   ],
   "source": [
    "print(x*a + y*b)"
   ]
  },
  {
   "cell_type": "code",
   "execution_count": 56,
   "id": "0a1d777c",
   "metadata": {},
   "outputs": [
    {
     "name": "stdout",
     "output_type": "stream",
     "text": [
      "2\n"
     ]
    }
   ],
   "source": [
    "print(d)"
   ]
  },
  {
   "cell_type": "code",
   "execution_count": null,
   "id": "33421815",
   "metadata": {},
   "outputs": [],
   "source": []
  }
 ],
 "metadata": {
  "kernelspec": {
   "display_name": "Python 3 (ipykernel)",
   "language": "python",
   "name": "python3"
  },
  "language_info": {
   "codemirror_mode": {
    "name": "ipython",
    "version": 3
   },
   "file_extension": ".py",
   "mimetype": "text/x-python",
   "name": "python",
   "nbconvert_exporter": "python",
   "pygments_lexer": "ipython3",
   "version": "3.10.7"
  }
 },
 "nbformat": 4,
 "nbformat_minor": 5
}
