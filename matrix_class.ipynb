{
 "cells": [
  {
   "cell_type": "code",
   "execution_count": 27,
   "id": "5f24505b",
   "metadata": {},
   "outputs": [],
   "source": [
    "from numbers import Number\n",
    "import itertools\n",
    "import copy"
   ]
  },
  {
   "cell_type": "code",
   "execution_count": 28,
   "id": "a455ddc8",
   "metadata": {},
   "outputs": [],
   "source": [
    "class MatrixDomainError(ValueError):\n",
    "    pass\n",
    "\n",
    "class MatrixTypeError(TypeError):\n",
    "    pass\n",
    "\n",
    "class MatrixSizeError(ArithmeticError):\n",
    "    pass\n",
    "\n",
    "class MatrixDimensionError(Exception):\n",
    "    pass"
   ]
  },
  {
   "cell_type": "code",
   "execution_count": 29,
   "id": "fda202bc",
   "metadata": {},
   "outputs": [],
   "source": [
    "class Matrix:\n",
    "    \n",
    "    def __init__(self, list_of_lists = 0):\n",
    "        # проверка корректонсти ввода:\n",
    "        if isinstance(list_of_lists, list):\n",
    "            if all(isinstance(l, Number) for l in list_of_lists):\n",
    "                list_of_lists = [[list_of_lists[i]] for i in range(len(list_of_lists))]\n",
    "            elif not(all(isinstance(l, list) for l in list_of_lists)):\n",
    "                raise MatrixTypeError(\"You are trying to create matrix from \" + repr(list_of_lists))\n",
    "            if not(all(len(i) == len(list_of_lists[0]) for i in list_of_lists)):\n",
    "                raise MatrixDimensionError(\"You are trying to create a matrix with variable row size\")\n",
    "            elif all([(isinstance(i, Number) and isinstance(l, list)) for l in list_of_lists for i in l]):\n",
    "                self.body = copy.deepcopy(list_of_lists)\n",
    "                self.m = len(self.body)\n",
    "                self.n = len(self.body[0]) \n",
    "            else:\n",
    "                raise MatrixTypeError(\"You are trying to create matrix from \" + repr(list_of_lists))\n",
    "            \n",
    "    def size(self):\n",
    "        sizepair = (self.m, self.n)\n",
    "        return sizepair\n",
    "    \n",
    "    def __str__(self):\n",
    "        return \"\\n\".join(\"\\t\".join(map(str, row)) for row in self.body)\n",
    "    \n",
    "    def __eq__(self, other):\n",
    "        if self.m != other.m or self.n != other.n:\n",
    "            return False\n",
    "        elif all(self.body[i][j] == other.body[i][j] for i in range(m) for j in range(n)):\n",
    "            return True\n",
    "        else:\n",
    "            return False\n",
    "    \n",
    "    def __add__(self, other):\n",
    "        # только если одного размера\n",
    "        if self.m == other.m and self.n == other.n:\n",
    "            return Matrix(copy.deepcopy([[self.body[i][j] + other.body[i][j] for j in range(self.n)] for i in range(self.m)]))\n",
    "        else:\n",
    "            raise MatrixSizeError(\"You are trying to sum matrices of different sizes\")\n",
    "    \n",
    "    def __mul__(self, other):\n",
    "        # операция умножения(в том числе на константу)\n",
    "        if isinstance(other, Number):\n",
    "            return Matrix(copy.deepcopy([[other*self.body[i][j] for j in range(self.n)] for i in range(self.m)]))\n",
    "        elif not(isinstance(other, Matrix)):\n",
    "            raise MatrixTypeError(\"You are trying to multiply the matrix by \" + repr(x))\n",
    "        # число столбцов первой матрицы равно числу строк второй матрицы\n",
    "        elif self.n == other.m:\n",
    "            m_mul = [[0 for i in range(other.n)] for j in range(self.m)]\n",
    "            for i in range(other.n):\n",
    "                # иду по столбикам второй матрицы\n",
    "                for j in range(self.m):\n",
    "                    # иду по строкам первой матрицы\n",
    "                    for k in range(self.n):\n",
    "                        # иду по элементам строки(столбикам) первой матрицы и по элементам столбика(строкам) второй матрицы\n",
    "                        m_mul[j][i] += self.body[j][k] * other.body[k][i]\n",
    "            return Matrix(copy.deepcopy(m_mul))\n",
    "        else:\n",
    "            raise MatrixSizeError(\"The number of columns of the first matrix is not equal to the number of rows of the second\")\n",
    "    \n",
    "    def __rmul__(self, other):\n",
    "        return self.__mul__(other)\n",
    "    \n",
    "    def __neg__(self):\n",
    "        return self.__mul__(-1)\n",
    "    \n",
    "    def __sub__(self, other):\n",
    "        if self.m == other.m and self.n == other.n:\n",
    "            return self.__add__(other.__mul__(-1))\n",
    "        else:\n",
    "            raise MatrixSizeError(\"You are trying to subtract matrices of different sizes\")\n",
    "    \n",
    "    def __rsub__(self, other):\n",
    "        if self.m == other.m and self.n == other.n:\n",
    "            return other.__add__(self.__mul__(-1))\n",
    "        else:\n",
    "            raise MatrixSizeError(\"You are trying to subtract matrices of different sizes\")\n",
    "    \n",
    "    def transpose(self):\n",
    "        transposed = [[row[i] for row in self.body] for i in range(self.n)]\n",
    "        return(Matrix(copy.deepcopy(transposed)))"
   ]
  },
  {
   "cell_type": "code",
   "execution_count": 30,
   "id": "cbab336c",
   "metadata": {},
   "outputs": [
    {
     "ename": "MatrixTypeError",
     "evalue": "You are trying to create matrix from [[11, 'm', 13], [21, 22, 23], [31, 32, 33]]",
     "output_type": "error",
     "traceback": [
      "\u001b[1;31m---------------------------------------------------------------------------\u001b[0m",
      "\u001b[1;31mMatrixTypeError\u001b[0m                           Traceback (most recent call last)",
      "Cell \u001b[1;32mIn [30], line 2\u001b[0m\n\u001b[0;32m      1\u001b[0m a \u001b[38;5;241m=\u001b[39m [[\u001b[38;5;241m11\u001b[39m, \u001b[38;5;124m'\u001b[39m\u001b[38;5;124mm\u001b[39m\u001b[38;5;124m'\u001b[39m, \u001b[38;5;241m13\u001b[39m], [\u001b[38;5;241m21\u001b[39m, \u001b[38;5;241m22\u001b[39m, \u001b[38;5;241m23\u001b[39m], [\u001b[38;5;241m31\u001b[39m, \u001b[38;5;241m32\u001b[39m, \u001b[38;5;241m33\u001b[39m]]\n\u001b[1;32m----> 2\u001b[0m ma \u001b[38;5;241m=\u001b[39m \u001b[43mMatrix\u001b[49m\u001b[43m(\u001b[49m\u001b[43ma\u001b[49m\u001b[43m)\u001b[49m\n",
      "Cell \u001b[1;32mIn [29], line 17\u001b[0m, in \u001b[0;36mMatrix.__init__\u001b[1;34m(self, list_of_lists)\u001b[0m\n\u001b[0;32m     15\u001b[0m     \u001b[38;5;28mself\u001b[39m\u001b[38;5;241m.\u001b[39mn \u001b[38;5;241m=\u001b[39m \u001b[38;5;28mlen\u001b[39m(\u001b[38;5;28mself\u001b[39m\u001b[38;5;241m.\u001b[39mbody[\u001b[38;5;241m0\u001b[39m]) \n\u001b[0;32m     16\u001b[0m \u001b[38;5;28;01melse\u001b[39;00m:\n\u001b[1;32m---> 17\u001b[0m     \u001b[38;5;28;01mraise\u001b[39;00m MatrixTypeError(\u001b[38;5;124m\"\u001b[39m\u001b[38;5;124mYou are trying to create matrix from \u001b[39m\u001b[38;5;124m\"\u001b[39m \u001b[38;5;241m+\u001b[39m \u001b[38;5;28mrepr\u001b[39m(list_of_lists))\n",
      "\u001b[1;31mMatrixTypeError\u001b[0m: You are trying to create matrix from [[11, 'm', 13], [21, 22, 23], [31, 32, 33]]"
     ]
    }
   ],
   "source": [
    "a = [[11, 'm', 13], [21, 22, 23], [31, 32, 33]]\n",
    "ma = Matrix(a)"
   ]
  },
  {
   "cell_type": "code",
   "execution_count": 31,
   "id": "11b520fd",
   "metadata": {},
   "outputs": [
    {
     "name": "stdout",
     "output_type": "stream",
     "text": [
      "11\t12\t13\n",
      "21\t22\t23\n",
      "31\t32\t33\n"
     ]
    }
   ],
   "source": [
    "a = [[11, 12, 13], [21, 22, 23], [31, 32, 33]]\n",
    "ma = Matrix(a)\n",
    "print(ma)"
   ]
  },
  {
   "cell_type": "code",
   "execution_count": 32,
   "id": "e6fb5daf",
   "metadata": {},
   "outputs": [
    {
     "name": "stdout",
     "output_type": "stream",
     "text": [
      "0\t1\t2\n",
      "3\t4\t5\n",
      "6\t7\t8\n"
     ]
    }
   ],
   "source": [
    "b = [[0, 1, 2], [3, 4, 5], [6, 7, 8]]\n",
    "mb = Matrix(b)\n",
    "print(mb)"
   ]
  },
  {
   "cell_type": "code",
   "execution_count": 33,
   "id": "ab6fd86e",
   "metadata": {},
   "outputs": [
    {
     "name": "stdout",
     "output_type": "stream",
     "text": [
      "11\t13\t15\n",
      "24\t26\t28\n",
      "37\t39\t41\n"
     ]
    }
   ],
   "source": [
    "# сумма матриц\n",
    "ab_sum = ma + mb\n",
    "print(ab_sum)"
   ]
  },
  {
   "cell_type": "code",
   "execution_count": 34,
   "id": "121f4471",
   "metadata": {},
   "outputs": [
    {
     "name": "stdout",
     "output_type": "stream",
     "text": [
      "11\t11\t11\n",
      "18\t18\t18\n",
      "25\t25\t25\n"
     ]
    }
   ],
   "source": [
    "# разность матриц\n",
    "ab_sub = ma - mb\n",
    "print(ab_sub)"
   ]
  },
  {
   "cell_type": "code",
   "execution_count": 35,
   "id": "802ce2ca",
   "metadata": {},
   "outputs": [
    {
     "name": "stdout",
     "output_type": "stream",
     "text": [
      "114\t150\t186\n",
      "204\t270\t336\n",
      "294\t390\t486\n"
     ]
    }
   ],
   "source": [
    "# произведение матриц\n",
    "print(ma*mb)"
   ]
  },
  {
   "cell_type": "code",
   "execution_count": 36,
   "id": "0af63686",
   "metadata": {},
   "outputs": [
    {
     "name": "stdout",
     "output_type": "stream",
     "text": [
      "1\t2\t3\t4\n",
      "1\t2\t3\t4\n",
      "1\t2\t3\t4\n"
     ]
    }
   ],
   "source": [
    "c = [[1, 2, 3, 4],[1, 2, 3, 4],[1, 2, 3, 4]]\n",
    "mc = Matrix(c)\n",
    "md = Matrix([[1, 2], [1, 2], [1, 2], [1, 2]])\n",
    "print(mc)"
   ]
  },
  {
   "cell_type": "code",
   "execution_count": 37,
   "id": "fe75034d",
   "metadata": {},
   "outputs": [
    {
     "name": "stdout",
     "output_type": "stream",
     "text": [
      "1\t2\n",
      "1\t2\n",
      "1\t2\n",
      "1\t2\n"
     ]
    }
   ],
   "source": [
    "print(md)"
   ]
  },
  {
   "cell_type": "code",
   "execution_count": 38,
   "id": "5b929fb2",
   "metadata": {},
   "outputs": [
    {
     "ename": "MatrixSizeError",
     "evalue": "The number of columns of the first matrix is not equal to the number of rows of the second",
     "output_type": "error",
     "traceback": [
      "\u001b[1;31m---------------------------------------------------------------------------\u001b[0m",
      "\u001b[1;31mMatrixSizeError\u001b[0m                           Traceback (most recent call last)",
      "Cell \u001b[1;32mIn [38], line 2\u001b[0m\n\u001b[0;32m      1\u001b[0m \u001b[38;5;66;03m# произведение матриц неподходящих размеров\u001b[39;00m\n\u001b[1;32m----> 2\u001b[0m \u001b[38;5;28mprint\u001b[39m(\u001b[43mma\u001b[49m\u001b[38;5;241;43m*\u001b[39;49m\u001b[43mmd\u001b[49m)\n",
      "Cell \u001b[1;32mIn [29], line 59\u001b[0m, in \u001b[0;36mMatrix.__mul__\u001b[1;34m(self, other)\u001b[0m\n\u001b[0;32m     57\u001b[0m     \u001b[38;5;28;01mreturn\u001b[39;00m Matrix(copy\u001b[38;5;241m.\u001b[39mdeepcopy(m_mul))\n\u001b[0;32m     58\u001b[0m \u001b[38;5;28;01melse\u001b[39;00m:\n\u001b[1;32m---> 59\u001b[0m     \u001b[38;5;28;01mraise\u001b[39;00m MatrixSizeError(\u001b[38;5;124m\"\u001b[39m\u001b[38;5;124mThe number of columns of the first matrix is not equal to the number of rows of the second\u001b[39m\u001b[38;5;124m\"\u001b[39m)\n",
      "\u001b[1;31mMatrixSizeError\u001b[0m: The number of columns of the first matrix is not equal to the number of rows of the second"
     ]
    }
   ],
   "source": [
    "# произведение матриц неподходящих размеров\n",
    "print(ma*md)"
   ]
  },
  {
   "cell_type": "code",
   "execution_count": 39,
   "id": "c6c32550",
   "metadata": {},
   "outputs": [
    {
     "data": {
      "text/plain": [
       "(4, 2)"
      ]
     },
     "execution_count": 39,
     "metadata": {},
     "output_type": "execute_result"
    }
   ],
   "source": [
    "# размер матрицы(число строк, число столбцов)\n",
    "md.size()"
   ]
  },
  {
   "cell_type": "code",
   "execution_count": 40,
   "id": "eaa79fc4",
   "metadata": {},
   "outputs": [
    {
     "data": {
      "text/plain": [
       "False"
      ]
     },
     "execution_count": 40,
     "metadata": {},
     "output_type": "execute_result"
    }
   ],
   "source": [
    "mc == md"
   ]
  },
  {
   "cell_type": "code",
   "execution_count": 41,
   "id": "b791f1cf",
   "metadata": {},
   "outputs": [
    {
     "name": "stdout",
     "output_type": "stream",
     "text": [
      "10\t20\n",
      "10\t20\n",
      "10\t20\n"
     ]
    }
   ],
   "source": [
    "print(mc*md)"
   ]
  },
  {
   "cell_type": "code",
   "execution_count": 42,
   "id": "109ebc62",
   "metadata": {},
   "outputs": [
    {
     "name": "stdout",
     "output_type": "stream",
     "text": [
      "114\t150\t186\n",
      "204\t270\t336\n",
      "294\t390\t486\n"
     ]
    }
   ],
   "source": [
    "print(ma*mb)"
   ]
  },
  {
   "cell_type": "code",
   "execution_count": 43,
   "id": "dcd3f56f",
   "metadata": {},
   "outputs": [
    {
     "name": "stdout",
     "output_type": "stream",
     "text": [
      "9\t18\n",
      "9\t18\n",
      "9\t18\n",
      "9\t18\n"
     ]
    }
   ],
   "source": [
    "print(9*md)"
   ]
  },
  {
   "cell_type": "code",
   "execution_count": 44,
   "id": "86fc6e56",
   "metadata": {},
   "outputs": [
    {
     "name": "stdout",
     "output_type": "stream",
     "text": [
      "-1\t-2\n",
      "-1\t-2\n",
      "-1\t-2\n",
      "-1\t-2\n"
     ]
    }
   ],
   "source": [
    "print(-md)"
   ]
  },
  {
   "cell_type": "code",
   "execution_count": 45,
   "id": "90f58c44",
   "metadata": {},
   "outputs": [
    {
     "name": "stdout",
     "output_type": "stream",
     "text": [
      "1\t1\t1\n",
      "2\t2\t2\n",
      "3\t3\t3\n",
      "4\t4\t4\n"
     ]
    }
   ],
   "source": [
    "# транспонирование матриц\n",
    "print(mc.transpose())"
   ]
  },
  {
   "cell_type": "code",
   "execution_count": null,
   "id": "9d833c31",
   "metadata": {},
   "outputs": [],
   "source": []
  }
 ],
 "metadata": {
  "kernelspec": {
   "display_name": "Python 3 (ipykernel)",
   "language": "python",
   "name": "python3"
  },
  "language_info": {
   "codemirror_mode": {
    "name": "ipython",
    "version": 3
   },
   "file_extension": ".py",
   "mimetype": "text/x-python",
   "name": "python",
   "nbconvert_exporter": "python",
   "pygments_lexer": "ipython3",
   "version": "3.10.7"
  }
 },
 "nbformat": 4,
 "nbformat_minor": 5
}
