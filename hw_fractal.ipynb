{
 "cells": [
  {
   "cell_type": "code",
   "execution_count": 92,
   "id": "e716027f",
   "metadata": {},
   "outputs": [],
   "source": [
    "import turtle as tl\n",
    "\n",
    "def create_l_system(iters, axiom, rules):\n",
    "    start_string = axiom\n",
    "    if iters == 0:\n",
    "        return axiom\n",
    "    end_string = \"\"\n",
    "    for _ in range(iters):\n",
    "        end_string = \"\".join(rules[i] if i in rules else i for i in start_string)\n",
    "        start_string = end_string\n",
    "\n",
    "    return end_string\n",
    "\n",
    "\n",
    "def draw_l_system(instructions, angle, distance):\n",
    "    for cmd in instructions:\n",
    "        if cmd == 'F':\n",
    "            tl.forward(distance)\n",
    "        elif cmd == '+':\n",
    "            tl.right(angle)\n",
    "        elif cmd == '-':\n",
    "            tl.left(angle)"
   ]
  },
  {
   "cell_type": "code",
   "execution_count": 93,
   "id": "237a594e",
   "metadata": {},
   "outputs": [],
   "source": [
    "#scale = 400\n",
    "tl.pensize(2)\n",
    "#tl.penup()\n",
    "#tl.goto(-scale, -scale/4)\n",
    "#tl.pendown()\n",
    "\n",
    "axiom = \"FX+FX+FX\"\n",
    "rules = {\"X\":\"X+YF+\", \"Y\":\"-FX-Y\"}\n",
    "iterations = 8\n",
    "angle = 90\n",
    "distance = 12\n",
    "tl.color(\"purple\")\n",
    "tl.speed(100)\n",
    "\n",
    "instructions = create_l_system(iterations, axiom, rules)\n",
    "draw_l_system(instructions, angle, distance)\n",
    "\n",
    "tl.done()"
   ]
  },
  {
   "cell_type": "code",
   "execution_count": null,
   "id": "1557371a",
   "metadata": {},
   "outputs": [],
   "source": []
  }
 ],
 "metadata": {
  "kernelspec": {
   "display_name": "Python 3 (ipykernel)",
   "language": "python",
   "name": "python3"
  },
  "language_info": {
   "codemirror_mode": {
    "name": "ipython",
    "version": 3
   },
   "file_extension": ".py",
   "mimetype": "text/x-python",
   "name": "python",
   "nbconvert_exporter": "python",
   "pygments_lexer": "ipython3",
   "version": "3.10.7"
  }
 },
 "nbformat": 4,
 "nbformat_minor": 5
}
