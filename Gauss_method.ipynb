{
  "metadata": {
    "language_info": {
      "codemirror_mode": {
        "name": "python",
        "version": 3
      },
      "file_extension": ".py",
      "mimetype": "text/x-python",
      "name": "python",
      "nbconvert_exporter": "python",
      "pygments_lexer": "ipython3",
      "version": "3.8"
    },
    "kernelspec": {
      "name": "python",
      "display_name": "Python (Pyodide)",
      "language": "python"
    }
  },
  "nbformat_minor": 4,
  "nbformat": 4,
  "cells": [
    {
      "cell_type": "code",
      "source": "import numpy\nfrom numpy import array\nfrom numpy.linalg import norm, det\nfrom numpy.linalg import solve as solve_out_of_the_box\nfrom numpy.random import uniform\n\ndef gauss(a, b):\n    a = a.copy()\n    b = b.copy()\n    n = len(a)\n\n    def forward():\n        for i in range(n):\n            c2 = a[i][i]\n            for j in range(i + 1, n):\n                c1 = a[j][i] / c2\n                for k in range(i, n):\n                    a[j][k] = a[j][k] - a[i][k] * c1\n                b[j] = b[j] - b[i] * c1\n\n    def backward():\n        x = numpy.zeros(len(b), dtype=float)\n        for i in range(n - 1, -1, -1):\n            x[i] = b[i] / a[i][i]\n            for j in range(i - 1, -1, -1):\n                b[j] -= a[j][i] * x[i]\n        return x\n                \n\n    forward()\n    x = backward()\n    return x\n\nN=100\nSMALL = 1e-5\n\ndef test_error(solver_function):\n    # Сгенерируем хорошо обусловленную систему\n    while True:\n        a = uniform(0.0, 1.0, (N, N))\n        b = uniform(0.0, 1.0, (N,  ))\n\n        d = det(a)\n        if abs(d) <= SMALL:  # Определитель маленький — плохо\n            # print(f\"det: {d}\")\n            continue  # Попробуем ещё\n        if d < 0.0:  # Отрицательный — поменяем знак\n            # print(f\"det: {d}\")\n            a = -a\n\n        try:\n            oob_solution = solve_out_of_the_box(a, b)\n        except Exception as e:  # Всё-таки система плохая\n            # print(f\"exc: {e}\")\n            continue  # Попробуем ещё\n\n        sb = a @ oob_solution\n        if norm(sb - b, ord=1) > SMALL:\n            # print(\"Bad solution...\")\n            continue  # Всё же не очень система получилась =)\n        \n        break # Всё, считаем, что мы случайно сгенерировали хорошую систему\n\n    tested_solution = solver_function(a, b)\n    return norm(tested_solution - oob_solution, ord=1)\n\ntest_error(gauss)",
      "metadata": {
        "trusted": true
      },
      "execution_count": 21,
      "outputs": [
        {
          "execution_count": 19,
          "output_type": "execute_result",
          "data": {
            "text/plain": "1.2672080398901109e-11"
          },
          "metadata": {}
        }
      ]
    },
    {
      "cell_type": "code",
      "source": "",
      "metadata": {},
      "execution_count": null,
      "outputs": []
    }
  ]
}