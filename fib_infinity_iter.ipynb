{
 "cells": [
  {
   "cell_type": "markdown",
   "id": "a36ff002",
   "metadata": {},
   "source": [
    "На основании последнего примера (class Fib6) из блокнота «Срезы, итераторы и генераторы» сделать свой класс, объекты которого могут бесконечно выдавать числа Фибоначчи, значения факториала или элементы другой последовательности, чтобы по нему можно было «бегать» циклом for. Про «бесконечно выдавать» — важно, в этом и была идея! Ограничить-то вывод всегда можно через itertools.islice(my_fibs, 300), например."
   ]
  },
  {
   "cell_type": "code",
   "execution_count": 1,
   "id": "c01f633c",
   "metadata": {},
   "outputs": [],
   "source": [
    "class infinity_fib():\n",
    "    \n",
    "    class inf_fib_iter:\n",
    "        \"\"\"Внутренний класс - итератор\"\"\"\n",
    "        def __init__(self):\n",
    "            self.a = 1\n",
    "            self.b = 1\n",
    "            self.i = 0\n",
    "        \n",
    "        def __next__(self):\n",
    "            c = self.a + self.b\n",
    "            self.i += 1\n",
    "            if self.i <= 2:\n",
    "                return 1\n",
    "            else:\n",
    "                c = self.a + self.b\n",
    "                self.a = self.b\n",
    "                self.b = c\n",
    "                return c\n",
    "            \n",
    "    def __iter__(self):\n",
    "        \"\"\"Создать и вернуть итератор\"\"\"\n",
    "        return infinity_fib.inf_fib_iter()    "
   ]
  },
  {
   "cell_type": "code",
   "execution_count": 2,
   "id": "669c5ca2",
   "metadata": {},
   "outputs": [],
   "source": [
    "inf_f = infinity_fib()"
   ]
  },
  {
   "cell_type": "code",
   "execution_count": 3,
   "id": "448631ef",
   "metadata": {},
   "outputs": [
    {
     "name": "stdout",
     "output_type": "stream",
     "text": [
      "1 1\n",
      "2 1\n",
      "3 2\n",
      "4 3\n",
      "5 5\n",
      "6 8\n",
      "7 13\n",
      "8 21\n",
      "9 34\n",
      "10 55\n",
      "11 89\n",
      "12 144\n",
      "13 233\n",
      "14 377\n",
      "15 610\n",
      "16 987\n",
      "17 1597\n",
      "18 2584\n",
      "19 4181\n",
      "20 6765\n"
     ]
    }
   ],
   "source": [
    "import itertools\n",
    "\n",
    "for i, f in zip(\n",
    "    itertools.count(1),\n",
    "    itertools.islice(inf_f, 20)\n",
    "):\n",
    "    print(i, f)"
   ]
  },
  {
   "cell_type": "code",
   "execution_count": null,
   "id": "2758f942",
   "metadata": {},
   "outputs": [],
   "source": []
  }
 ],
 "metadata": {
  "kernelspec": {
   "display_name": "Python 3 (ipykernel)",
   "language": "python",
   "name": "python3"
  },
  "language_info": {
   "codemirror_mode": {
    "name": "ipython",
    "version": 3
   },
   "file_extension": ".py",
   "mimetype": "text/x-python",
   "name": "python",
   "nbconvert_exporter": "python",
   "pygments_lexer": "ipython3",
   "version": "3.10.7"
  }
 },
 "nbformat": 4,
 "nbformat_minor": 5
}
